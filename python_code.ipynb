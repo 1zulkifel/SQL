{
 "cells": [
  {
   "cell_type": "code",
   "execution_count": 16,
   "metadata": {},
   "outputs": [],
   "source": [
    "import pandas as pd\n",
    "import csv\n",
    "with open('./files/cricket.csv','w',newline='')as file:\n",
    "    fieldnames=['Player_id','Player_Name','Runs','Best','Player_id.','Player_Name.','Runs_0','Popularity']\n",
    "    writer=csv.DictWriter(file,fieldnames=fieldnames)\n",
    "    writer.writeheader()\n",
    "    writer.writerow({'Player_id':101,'Player_Name':'Zulkifel Ahmd','Runs':30,'Best':2,'Player_id.':101,'Player_Name.':'Zulkifel Ahmd','Runs_0':30,'Popularity':10})\n",
    "    writer.writerow({'Player_id':102,'Player_Name':'Babar Azam','Runs':40,'Best':4,'Player_id.':102,'Player_Name.':'Babar Azam','Runs_0':40,'Popularity':8})\n",
    "    writer.writerow({'Player_id':103,'Player_Name':'Ali Ahmad','Runs':50,'Best':5,'Player_id.':103,'Player_Name.':'Ali Ahmad','Runs_0':50,'Popularity':'Null'})\n",
    "    writer.writerow({'Player_id':104,'Player_Name':'Shaheen AF','Runs':20,'Best':7,'Player_id.':104,'Player_Name.':'Shaheen AF','Runs_0':20,'Popularity':7})\n",
    "    writer.writerow({'Player_id':105,'Player_Name':'Yasir Shah','Runs':80,'Best':9,'Player_id.':105,'Player_Name.':'Yasir Shah','Runs_0':80,'Popularity':10})\n",
    "    writer.writerow({'Player_id':106,'Player_Name':'Rana Naveed','Runs':50,'Best':3,'Player_id.':106,'Player_Name.':'Rana Naveed','Runs_0':50,'Popularity':9})\n",
    "    writer.writerow({'Player_id':107,'Player_Name':'U Akmal','Runs':22,'Best':8,'Player_id.':107,'Player_Name.':'U Akmal','Runs_0':22,'Popularity':5})\n",
    "    writer.writerow({'Player_id':108,'Player_Name':'Sarfaraz','Runs':34,'Best':9,'Player_id.':108,'Player_Name.':'Sarfaraz','Runs_0':34,'Popularity':6})\n",
    "    writer.writerow({'Player_id':109,'Player_Name':'Fakher Zaman','Runs':33,'Best':6,'Player_id.':109,'Player_Name.':'Fakher Zaman','Runs_0':33,'Popularity':'Null'})\n",
    "    writer.writerow({'Player_id':1010,'Player_Name':'D Kaneria','Runs':55,'Best':7,'Player_id.':1010,'Player_Name.':'D Kaneria','Runs_0':55,'Popularity':7})\n",
    "    writer.writerow({'Player_id':1011,'Player_Name':'S Malik','Runs':44,'Best':4,'Player_id.':1011,'Player_Name.':'S Malik','Runs_0':44,'Popularity':4})\n",
    "    writer.writerow({'Player_id':1012,'Player_Name':'Shahir A','Runs':37,'Best':9,'Player_id.':1012,'Player_Name.':'Shahir A','Runs_0':37,'Popularity':9})\n"
   ]
  },
  {
   "cell_type": "code",
   "execution_count": null,
   "metadata": {},
   "outputs": [],
   "source": []
  }
 ],
 "metadata": {
  "kernelspec": {
   "display_name": "Python 3",
   "language": "python",
   "name": "python3"
  },
  "language_info": {
   "codemirror_mode": {
    "name": "ipython",
    "version": 3
   },
   "file_extension": ".py",
   "mimetype": "text/x-python",
   "name": "python",
   "nbconvert_exporter": "python",
   "pygments_lexer": "ipython3",
   "version": "3.7.4"
  }
 },
 "nbformat": 4,
 "nbformat_minor": 2
}
